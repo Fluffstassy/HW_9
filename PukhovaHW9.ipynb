{
  "nbformat": 4,
  "nbformat_minor": 0,
  "metadata": {
    "colab": {
      "provenance": [],
      "collapsed_sections": [],
      "include_colab_link": true
    },
    "kernelspec": {
      "name": "python3",
      "display_name": "Python 3"
    },
    "language_info": {
      "name": "python"
    }
  },
  "cells": [
    {
      "cell_type": "markdown",
      "metadata": {
        "id": "view-in-github",
        "colab_type": "text"
      },
      "source": [
        "<a href=\"https://colab.research.google.com/github/Fluffstassy/HW_9/blob/main/PukhovaHW9.ipynb\" target=\"_parent\"><img src=\"https://colab.research.google.com/assets/colab-badge.svg\" alt=\"Open In Colab\"/></a>"
      ]
    },
    {
      "cell_type": "markdown",
      "source": [
        "# Домашнее задание «Библиотека numpy. Вычислительные задачи»"
      ],
      "metadata": {
        "id": "gVGutgqhG9Lt"
      }
    },
    {
      "cell_type": "markdown",
      "source": [
        "# Задание 1\n",
        "Создайте numpy array с элементами от числа N до 0 (например, для N = 10 это будет array([9, 8, 7, 6, 5, 4, 3, 2, 1, 0]))."
      ],
      "metadata": {
        "id": "eO3hIiSdt31T"
      }
    },
    {
      "cell_type": "code",
      "execution_count": null,
      "metadata": {
        "id": "ct0lAmP7lbst"
      },
      "outputs": [],
      "source": [
        "import numpy as np\n",
        "\n",
        "n = int(input())\n",
        "x = np.arange(n-1, -1, -1)   #создаем numpy array от числа n-1 (чтобы число n не попало), до -1 (чтобы закончить на 0) и с шагом -1 (чтобы числа были последовательны)\n",
        "\n",
        "print(x)"
      ]
    },
    {
      "cell_type": "markdown",
      "source": [
        "# Задание 2\n",
        "Создайте диагональную матрицу с элементами от N до 0. Посчитайте сумму ее значений на диагонали."
      ],
      "metadata": {
        "id": "WeZpJVw0uGXS"
      }
    },
    {
      "cell_type": "code",
      "source": [
        "import numpy as np\n",
        "\n",
        "n = int(input())\n",
        "mat = np.diag(np.arange(n-1, -1, -1)) #по аналогии спервым заданием создаем диагональную матрицу\n",
        "print(mat)\n",
        "summ = 0\n",
        "for line in mat:\n",
        "    for j in line:  #функция для расчета суммы\n",
        "        summ += j\n",
        "print('Сумма: {}'.format(summ))"
      ],
      "metadata": {
        "id": "sHzgr-GCuGgK"
      },
      "execution_count": null,
      "outputs": []
    },
    {
      "cell_type": "markdown",
      "source": [
        "# Задание 3\n",
        "Решите систему уравнений:\n",
        "\n",
        "4x + 2y + z = 4\n",
        "\n",
        "x + 3y = 12\n",
        "\n",
        "5y + 4z = -3"
      ],
      "metadata": {
        "id": "tkkTVnzvuMra"
      }
    },
    {
      "cell_type": "code",
      "source": [
        "from numpy import linalg\n",
        "\n",
        "a = np.array([[4, 2, 1], [1, 3, 0], [0, 5, 4]])\n",
        "b = np.array([4, 12, -3])\n",
        "linalg.solve(a, b)"
      ],
      "metadata": {
        "id": "vqDLP_HCuMzK"
      },
      "execution_count": null,
      "outputs": []
    },
    {
      "cell_type": "code",
      "source": [
        "np.allclose( np.dot(a, linalg.solve(a, b)), b )"
      ],
      "metadata": {
        "id": "ails0TlyxpVM"
      },
      "execution_count": null,
      "outputs": []
    },
    {
      "cell_type": "markdown",
      "source": [
        "# Задача 4\n",
        "Имеется матрица покупок в интернет-магазине. Столбец А - ID пользователя. Остальные столбцы - количество покупок категорий товаров этим пользователем.\n",
        "Найдите самого похожего пользователя. Т. е. посчитайте косинусное сходство между этим пользователем и всеми пользователями из массива user_stats"
      ],
      "metadata": {
        "id": "_e6LMXssuNAH"
      }
    },
    {
      "cell_type": "code",
      "source": [
        "import numpy as np\n",
        " \n",
        "users_stats = np.array(\n",
        "[\n",
        "[2, 1, 0, 0, 0, 0],\n",
        "[1, 1, 2, 1, 0, 0],\n",
        "[2, 0, 1, 0, 0, 0],\n",
        "[1, 1, 2, 1, 0, 1],\n",
        "[0, 0, 1, 2, 0, 0],\n",
        "[0, 0, 0, 0, 0, 5],\n",
        "[1, 0, 0, 0, 0, 0],\n",
        "[0, 1, 1, 0, 0, 0],\n",
        "[0, 0, 0, 1, 1, 3],\n",
        "[1, 0, 0, 2, 1, 4]\n",
        "],\n",
        "np.int32\n",
        ")\n",
        " \n",
        "next_user_stats = np.array([0, 1, 2, 0, 0, 0])\n",
        " \n",
        "cosine=np.dot(users_stats, next_user_stats) / (np.linalg.norm(users_stats, axis = 1)) * np.linalg.norm(next_user_stats) #считаем косинус углов между векторами каждой строки (ось 1)\n",
        "index = np.argmax(cosine) #находим индекс элемента, который имеет максимальное значение\n",
        "print(index)"
      ],
      "metadata": {
        "id": "ewKZ8GPl1Umf"
      },
      "execution_count": null,
      "outputs": []
    },
    {
      "cell_type": "code",
      "source": [],
      "metadata": {
        "id": "00dthyJQrj6d"
      },
      "execution_count": null,
      "outputs": []
    }
  ]
}